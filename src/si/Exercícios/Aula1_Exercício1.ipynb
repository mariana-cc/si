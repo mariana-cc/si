{
 "cells": [
  {
   "cell_type": "markdown",
   "id": "bafb1d11-d555-4416-b826-9457fe5ba2e8",
   "metadata": {},
   "source": [
    "## Aula 1 - 26/09\n",
    "\n",
    "### Exercício 1 - NumPy array Indexing/Slicing:"
   ]
  },
  {
   "cell_type": "code",
   "execution_count": 17,
   "id": "68307ed1-bdc1-4cc5-95e3-119fa4fec050",
   "metadata": {},
   "outputs": [],
   "source": [
    "import pandas as pd"
   ]
  },
  {
   "cell_type": "markdown",
   "id": "52c0c411-e126-4b4a-ab89-6c9bf89733c5",
   "metadata": {},
   "source": [
    "1.1. Carregar o ficheiro"
   ]
  },
  {
   "cell_type": "code",
   "execution_count": 3,
   "id": "895e40d8-26aa-484a-8ece-79bf13293e04",
   "metadata": {},
   "outputs": [
    {
     "name": "stdout",
     "output_type": "stream",
     "text": [
      "     sepal_length  sepal_width  petal_length  petal_width           class\n",
      "0             5.1          3.5           1.4          0.2     Iris-setosa\n",
      "1             4.9          3.0           1.4          0.2     Iris-setosa\n",
      "2             4.7          3.2           1.3          0.2     Iris-setosa\n",
      "3             4.6          3.1           1.5          0.2     Iris-setosa\n",
      "4             5.0          3.6           1.4          0.2     Iris-setosa\n",
      "..            ...          ...           ...          ...             ...\n",
      "145           6.7          3.0           5.2          2.3  Iris-virginica\n",
      "146           6.3          2.5           5.0          1.9  Iris-virginica\n",
      "147           6.5          3.0           5.2          2.0  Iris-virginica\n",
      "148           6.2          3.4           5.4          2.3  Iris-virginica\n",
      "149           5.9          3.0           5.1          1.8  Iris-virginica\n",
      "\n",
      "[150 rows x 5 columns]\n"
     ]
    }
   ],
   "source": [
    "dataset = pd.read_csv('iris.csv')\n",
    "print (dataset)"
   ]
  },
  {
   "cell_type": "markdown",
   "id": "b0262873-92ea-43b6-98c1-ecded9c037a5",
   "metadata": {},
   "source": [
    "1.2. Seleciona a primeira variável independente e verifica a dimensão do array resultante."
   ]
  },
  {
   "cell_type": "code",
   "execution_count": 6,
   "id": "0458e1b4-9e4e-4c1f-96d6-5152b6f234f4",
   "metadata": {},
   "outputs": [
    {
     "name": "stdout",
     "output_type": "stream",
     "text": [
      "A dimensão da primeira variável independente é 5\n"
     ]
    }
   ],
   "source": [
    "first_variable = dataset.iloc[0] \n",
    "dim = len(first_variable) \n",
    "\n",
    "#ou dim = dataset.iloc[0].size\n",
    "\n",
    "print (f\"A dimensão da primeira variável independente é {dim}\")"
   ]
  },
  {
   "cell_type": "markdown",
   "id": "3fcd6024-c32f-40d0-bee7-ce47d4d244fe",
   "metadata": {},
   "source": [
    "1.3. Seleciona as últimas 5 amostras do iris dataset. Qual a média das últimas 5 amostras para cada variável\n",
    "independente/feature?"
   ]
  },
  {
   "cell_type": "code",
   "execution_count": 15,
   "id": "796a6538-78ab-48de-99f3-eca9d196656a",
   "metadata": {},
   "outputs": [
    {
     "name": "stdout",
     "output_type": "stream",
     "text": [
      "     sepal_length  sepal_width  petal_length  petal_width           class\n",
      "145           6.7          3.0           5.2          2.3  Iris-virginica\n",
      "146           6.3          2.5           5.0          1.9  Iris-virginica\n",
      "147           6.5          3.0           5.2          2.0  Iris-virginica\n",
      "148           6.2          3.4           5.4          2.3  Iris-virginica\n",
      "149           5.9          3.0           5.1          1.8  Iris-virginica\n"
     ]
    }
   ],
   "source": [
    "last_five = dataset.iloc[-5:] \n",
    "\n",
    "print (last_five)"
   ]
  },
  {
   "cell_type": "code",
   "execution_count": 19,
   "id": "f8849934-bdc8-4989-8d01-b03044ad81d0",
   "metadata": {},
   "outputs": [
    {
     "name": "stdout",
     "output_type": "stream",
     "text": [
      " A média das últimas 5 amostras é: sepal_length    6.32\n",
      "sepal_width     2.98\n",
      "petal_length    5.18\n",
      "petal_width     2.06\n",
      "dtype: float64\n"
     ]
    }
   ],
   "source": [
    "mean_last_five = last_five.mean(numeric_only = True)\n",
    "\n",
    "print (f\" A média das últimas 5 amostras é: {mean_last_five}\")"
   ]
  },
  {
   "cell_type": "markdown",
   "id": "f1b34a18-91d7-43e5-9503-fb10b96d62c0",
   "metadata": {},
   "source": [
    "1.4. Seleciona todas as amostras do dataset com valor superior ou igual a 1. Nota que o array resultante deve ter apenas\n",
    "amostras com valores iguais ou superiores a 1 para todas as features."
   ]
  },
  {
   "cell_type": "code",
   "execution_count": 27,
   "id": "e23d7645-2e1e-48d1-85bb-1c42658f4048",
   "metadata": {},
   "outputs": [
    {
     "name": "stdout",
     "output_type": "stream",
     "text": [
      "As amostras do dataset com valor superior ou igual a 1 são:      sepal_length  sepal_width  petal_length  petal_width            class\n",
      "50            7.0          3.2           4.7          1.4  Iris-versicolor\n",
      "51            6.4          3.2           4.5          1.5  Iris-versicolor\n",
      "52            6.9          3.1           4.9          1.5  Iris-versicolor\n",
      "53            5.5          2.3           4.0          1.3  Iris-versicolor\n",
      "54            6.5          2.8           4.6          1.5  Iris-versicolor\n",
      "..            ...          ...           ...          ...              ...\n",
      "145           6.7          3.0           5.2          2.3   Iris-virginica\n",
      "146           6.3          2.5           5.0          1.9   Iris-virginica\n",
      "147           6.5          3.0           5.2          2.0   Iris-virginica\n",
      "148           6.2          3.4           5.4          2.3   Iris-virginica\n",
      "149           5.9          3.0           5.1          1.8   Iris-virginica\n",
      "\n",
      "[100 rows x 5 columns]\n"
     ]
    }
   ],
   "source": [
    "superior = dataset.loc[(dataset['sepal_length'] >= 1) & (dataset['sepal_width'] >= 1) & (dataset['petal_length'] >= 1) & (dataset['petal_width'] >= 1)]\n",
    "\n",
    "#usar o loc porque estamos a selecionar pelas labels\n",
    "\n",
    "print (f\"As amostras do dataset com valor superior ou igual a 1 são: {superior}\")"
   ]
  },
  {
   "cell_type": "markdown",
   "id": "fa3aa735-83e7-4797-8ba1-94e6c8368245",
   "metadata": {},
   "source": [
    "1.5. Seleciona todas as amostras com a classe/label igual a ‘Irissetosa’. Quantas amostras obténs?"
   ]
  },
  {
   "cell_type": "code",
   "execution_count": 30,
   "id": "ca652b60-8e64-4d07-9702-8aae1d320de3",
   "metadata": {},
   "outputs": [
    {
     "name": "stdout",
     "output_type": "stream",
     "text": [
      "O número de amostras com a classe Irissetosa é: 50\n"
     ]
    }
   ],
   "source": [
    "label_Irissetosa = dataset.loc[(dataset['class'] == 'Iris-setosa')]\n",
    "\n",
    "#print(label_Irissetosa)\n",
    "\n",
    "dim_Irissetosa = len(label_Irissetosa)\n",
    "print (f\"O número de amostras com a classe Irissetosa é: {dim_Irissetosa}\")"
   ]
  },
  {
   "cell_type": "code",
   "execution_count": null,
   "id": "506ce1cc-d736-4c16-9f47-b9811875c45a",
   "metadata": {},
   "outputs": [],
   "source": []
  }
 ],
 "metadata": {
  "kernelspec": {
   "display_name": "Python 3 (ipykernel)",
   "language": "python",
   "name": "python3"
  },
  "language_info": {
   "codemirror_mode": {
    "name": "ipython",
    "version": 3
   },
   "file_extension": ".py",
   "mimetype": "text/x-python",
   "name": "python",
   "nbconvert_exporter": "python",
   "pygments_lexer": "ipython3",
   "version": "3.9.12"
  }
 },
 "nbformat": 4,
 "nbformat_minor": 5
}
