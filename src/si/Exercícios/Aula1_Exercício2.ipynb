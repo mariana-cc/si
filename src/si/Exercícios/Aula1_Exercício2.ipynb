{
 "cells": [
  {
   "cell_type": "markdown",
   "id": "8a87e3d5-4d8b-4236-a76d-3bba7cbb8dca",
   "metadata": {},
   "source": [
    "## Aula 1 - 26/09 \n",
    "\n",
    "### Exercício 2 - NumPy array Indexing/Slicing:"
   ]
  },
  {
   "cell_type": "code",
   "execution_count": 2,
   "id": "fe23f52f-76a6-4f4f-acbf-5fa978355782",
   "metadata": {},
   "outputs": [],
   "source": [
    "import pandas as pd\n",
    "\n",
    "#Estes exercícios ficam aplicados na classe dada na aula"
   ]
  },
  {
   "cell_type": "markdown",
   "id": "b67ddbc6-9675-43eb-82ea-79183a4acfc0",
   "metadata": {},
   "source": [
    "2.1. Adiciona um método ao objeto Dataset que remove todas as amostras que contêm pelo menos um valor nulo (NaN). Nota que o\n",
    "objeto resultante não deve conter valores nulos em para nenhuma feature/variável independente. Nota também que deves atualizar o\n",
    "vetor y removendo as entradas associadas às amostras a remover. Deves usar apenas funções no NumPy. Nome do método: dropna"
   ]
  },
  {
   "cell_type": "code",
   "execution_count": null,
   "id": "d62fbc6b-bc6c-44e7-b641-cf97e7aa58ef",
   "metadata": {},
   "outputs": [],
   "source": [
    "def remove_null (self):\n",
    "    \"\"\"\n",
    "    Esta função remove os valores nulos. \n",
    "    \n",
    "    :return: Dataset\n",
    "    \"\"\"\n",
    "    \n",
    "    if self.x is None:\n",
    "        return pd.DataFrame(self.x).dropna(axis=0)"
   ]
  },
  {
   "cell_type": "markdown",
   "id": "7c4725ea-8153-43c2-9c48-e2f713a8055e",
   "metadata": {},
   "source": [
    "2.2) Adiciona um método ao objeto Dataset que substitui todas os valores nulos por outro valor (argumento da função/método). Nota\n",
    "que o objeto resultante não deve conter valores nulos em para nenhuma feature/variável independente. Deves usar apenas funções\n",
    "no NumPy.Nome do método: fillna"
   ]
  },
  {
   "cell_type": "code",
   "execution_count": null,
   "id": "389afd4e-50d1-45af-8584-a21a869d940a",
   "metadata": {},
   "outputs": [],
   "source": [
    "def replace_null (self, value):\n",
    "    \"\"\"\n",
    "    Esta função substitui os valores nulos por outro valor\n",
    "    \n",
    "    :param value: valor que vai substituir o valor nulo\n",
    "    :return: Dataset\n",
    "    \"\"\"\n",
    "    if self.x is None:\n",
    "        return pd.DataFrame(self.x).fillna(value)    "
   ]
  }
 ],
 "metadata": {
  "kernelspec": {
   "display_name": "Python 3 (ipykernel)",
   "language": "python",
   "name": "python3"
  },
  "language_info": {
   "codemirror_mode": {
    "name": "ipython",
    "version": 3
   },
   "file_extension": ".py",
   "mimetype": "text/x-python",
   "name": "python",
   "nbconvert_exporter": "python",
   "pygments_lexer": "ipython3",
   "version": "3.9.12"
  }
 },
 "nbformat": 4,
 "nbformat_minor": 5
}
